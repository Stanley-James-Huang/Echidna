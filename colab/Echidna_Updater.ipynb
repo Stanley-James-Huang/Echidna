{
  "nbformat": 4,
  "nbformat_minor": 0,
  "metadata": {
    "colab": {
      "name": "Echidna_Updater",
      "provenance": [],
      "collapsed_sections": []
    },
    "kernelspec": {
      "name": "python3",
      "display_name": "Python 3"
    },
    "accelerator": "GPU"
  },
  "cells": [
    {
      "cell_type": "code",
      "metadata": {
        "colab": {
          "base_uri": "https://localhost:8080/"
        },
        "id": "cURNyv0a9IIO",
        "outputId": "822f6f90-cdf9-44eb-c635-59ed3f16d865"
      },
      "source": [
        "%tensorflow_version 1.x\n",
        "!pip install gpt_2_simple -t . --no-deps --upgrade\n",
        "!pip install toposort\n",
        "import gpt_2_simple as gpt2\n",
        "from google.colab import drive\n",
        "\n",
        "drive.mount('/content/drive')\n",
        "root_dir = 'drive/MyDrive/Echidna'"
      ],
      "execution_count": null,
      "outputs": [
        {
          "output_type": "stream",
          "text": [
            "TensorFlow 1.x selected.\n",
            "Processing /root/.cache/pip/wheels/4a/39/91/667e099cf36dee458e2b5e39fc202da34d2c02b4005dd5dad3/gpt_2_simple-0.5.4-cp37-none-any.whl\n",
            "Installing collected packages: gpt-2-simple\n",
            "Successfully installed gpt-2-simple-0.5.4\n",
            "Requirement already satisfied: toposort in /usr/local/lib/python3.7/dist-packages (1.6)\n",
            "WARNING:tensorflow:\n",
            "The TensorFlow contrib module will not be included in TensorFlow 2.0.\n",
            "For more information, please see:\n",
            "  * https://github.com/tensorflow/community/blob/master/rfcs/20180907-contrib-sunset.md\n",
            "  * https://github.com/tensorflow/addons\n",
            "  * https://github.com/tensorflow/io (for I/O related ops)\n",
            "If you depend on functionality not listed there, please file an issue.\n",
            "\n",
            "Drive already mounted at /content/drive; to attempt to forcibly remount, call drive.mount(\"/content/drive\", force_remount=True).\n"
          ],
          "name": "stdout"
        }
      ]
    },
    {
      "cell_type": "code",
      "metadata": {
        "id": "7jV2Hy_mHpBY"
      },
      "source": [
        "!cp /content/drive/MyDrive/Echidna/gpt_2_simple/gpt_2.py /content/gpt_2_simple/gpt_2.py"
      ],
      "execution_count": null,
      "outputs": []
    },
    {
      "cell_type": "code",
      "metadata": {
        "colab": {
          "base_uri": "https://localhost:8080/"
        },
        "id": "agulH6Nrc8p2",
        "outputId": "803ef8b8-53ee-48dc-b9ae-b54647203ce3"
      },
      "source": [
        "model_name = \"355M\"\n",
        "gpt2.copy_checkpoint_from_gdrive(run_name='echidna')\n",
        "sess = gpt2.start_tf_sess()\n",
        "gpt2.finetune(sess,\n",
        "  root_dir + '/data/data.json',\n",
        "  steps=4000,\n",
        "  model_name=model_name,\n",
        "  print_every=10,\n",
        "  sample_every=200,\n",
        "  save_every=500,\n",
        "  run_name='echidna',\n",
        "  restore_from='latest',\n",
        "  overwrite=True\n",
        "  )\n",
        "gpt2.copy_checkpoint_to_gdrive(run_name='echidna')\n"
      ],
      "execution_count": null,
      "outputs": [
        {
          "output_type": "stream",
          "text": [
            "WARNING:tensorflow:From /content/gpt_2_simple/src/sample.py:17: where (from tensorflow.python.ops.array_ops) is deprecated and will be removed in a future version.\n",
            "Instructions for updating:\n",
            "Use tf.where in 2.0, which has the same broadcast rule as np.where\n",
            "WARNING:tensorflow:From /content/gpt_2_simple/src/memory_saving_gradients.py:62: get_backward_walk_ops (from tensorflow.contrib.graph_editor.select) is deprecated and will be removed after 2019-06-06.\n",
            "Instructions for updating:\n",
            "Please use tensorflow.python.ops.op_selector.get_backward_walk_ops.\n",
            "Loading checkpoint checkpoint/echidna/model-1000\n",
            "INFO:tensorflow:Restoring parameters from checkpoint/echidna/model-1000\n",
            "Loading dataset...\n"
          ],
          "name": "stdout"
        },
        {
          "output_type": "stream",
          "text": [
            "100%|██████████| 1/1 [00:12<00:00, 12.09s/it]\n"
          ],
          "name": "stderr"
        },
        {
          "output_type": "stream",
          "text": [
            "dataset has 3277868 tokens\n",
            "Training...\n",
            "Saving checkpoint/echidna/model-1000\n",
            "Saving checkpoint/echidna/model-1000\n"
          ],
          "name": "stdout"
        }
      ]
    },
    {
      "cell_type": "code",
      "metadata": {
        "id": "QzUzKJKblhrY"
      },
      "source": [
        ""
      ],
      "execution_count": null,
      "outputs": []
    },
    {
      "cell_type": "code",
      "metadata": {
        "id": "x_LOpQKSA32P"
      },
      "source": [
        ""
      ],
      "execution_count": null,
      "outputs": []
    },
    {
      "cell_type": "code",
      "metadata": {
        "id": "QQi3QO_Ic92q"
      },
      "source": [
        ""
      ],
      "execution_count": null,
      "outputs": []
    }
  ]
}