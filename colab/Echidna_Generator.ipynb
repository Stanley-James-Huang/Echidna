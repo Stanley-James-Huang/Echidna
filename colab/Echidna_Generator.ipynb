{
  "nbformat": 4,
  "nbformat_minor": 0,
  "metadata": {
    "colab": {
      "name": "Echidna_Generator",
      "provenance": []
    },
    "kernelspec": {
      "name": "python3",
      "display_name": "Python 3"
    },
    "language_info": {
      "name": "python"
    }
  },
  "cells": [
    {
      "cell_type": "code",
      "metadata": {
        "colab": {
          "base_uri": "https://localhost:8080/"
        },
        "id": "Jj8sjoOKtoh6",
        "outputId": "2ad60a6f-b5df-4480-c95d-4b877a4c72e6"
      },
      "source": [
        "%tensorflow_version 1.x\n",
        "!pip install gpt_2_simple==0.5.4 -t . --no-deps\n",
        "!pip install toposort\n",
        "import gpt_2_simple as gpt2\n",
        "from google.colab import drive\n",
        "\n",
        "drive.mount('/content/drive')\n",
        "root_dir = 'drive/MyDrive/Echidna'\n"
      ],
      "execution_count": null,
      "outputs": [
        {
          "output_type": "stream",
          "text": [
            "TensorFlow 1.x selected.\n",
            "Processing /root/.cache/pip/wheels/4a/39/91/667e099cf36dee458e2b5e39fc202da34d2c02b4005dd5dad3/gpt_2_simple-0.5.4-cp37-none-any.whl\n",
            "Installing collected packages: gpt-2-simple\n",
            "Successfully installed gpt-2-simple-0.5.4\n",
            "\u001b[33mWARNING: Target directory /content/gpt_2_simple-0.5.4.dist-info already exists. Specify --upgrade to force replacement.\u001b[0m\n",
            "\u001b[33mWARNING: Target directory /content/gpt_2_simple already exists. Specify --upgrade to force replacement.\u001b[0m\n",
            "\u001b[33mWARNING: Target directory /content/bin already exists. Specify --upgrade to force replacement.\u001b[0m\n",
            "Requirement already satisfied: toposort in /usr/local/lib/python3.7/dist-packages (1.6)\n",
            "WARNING:tensorflow:\n",
            "The TensorFlow contrib module will not be included in TensorFlow 2.0.\n",
            "For more information, please see:\n",
            "  * https://github.com/tensorflow/community/blob/master/rfcs/20180907-contrib-sunset.md\n",
            "  * https://github.com/tensorflow/addons\n",
            "  * https://github.com/tensorflow/io (for I/O related ops)\n",
            "If you depend on functionality not listed there, please file an issue.\n",
            "\n",
            "Drive already mounted at /content/drive; to attempt to forcibly remount, call drive.mount(\"/content/drive\", force_remount=True).\n"
          ],
          "name": "stdout"
        }
      ]
    },
    {
      "cell_type": "code",
      "metadata": {
        "id": "7l0ZDe6T_HkS"
      },
      "source": [
        "!cp /content/drive/MyDrive/Echidna/gpt_2_simple/gpt_2.py /content/gpt_2_simple/gpt_2.py"
      ],
      "execution_count": null,
      "outputs": []
    },
    {
      "cell_type": "code",
      "metadata": {
        "colab": {
          "base_uri": "https://localhost:8080/"
        },
        "id": "jg7TODi2TODq",
        "outputId": "7be841eb-7ada-46a8-b291-e12bcc5d2059"
      },
      "source": [
        "!ls /content/gpt_2_simple"
      ],
      "execution_count": null,
      "outputs": [
        {
          "output_type": "stream",
          "text": [
            "gpt_2.py  __init__.py  __pycache__  src\n"
          ],
          "name": "stdout"
        }
      ]
    },
    {
      "cell_type": "code",
      "metadata": {
        "colab": {
          "base_uri": "https://localhost:8080/"
        },
        "id": "HAUnRnWvxdtj",
        "outputId": "af2cb2e8-868a-4ccf-8a07-b07adb345393"
      },
      "source": [
        "model_name = \"355M\"\n",
        "gpt2.download_gpt2(model_name=model_name)"
      ],
      "execution_count": null,
      "outputs": [
        {
          "output_type": "stream",
          "text": [
            "Fetching checkpoint: 1.05Mit [00:00, 369Mit/s]                                                      \n",
            "Fetching encoder.json: 1.05Mit [00:00, 285Mit/s]                                                    \n",
            "Fetching hparams.json: 1.05Mit [00:00, 460Mit/s]                                                    \n",
            "Fetching model.ckpt.data-00000-of-00001: 1.05Mit [00:00, 315Mit/s]                                  \n",
            "Fetching model.ckpt.index: 1.05Mit [00:00, 235Mit/s]                                                \n",
            "Fetching model.ckpt.meta: 1.05Mit [00:00, 186Mit/s]                                                 \n",
            "Fetching vocab.bpe: 1.05Mit [00:00, 283Mit/s]                                                       \n"
          ],
          "name": "stderr"
        }
      ]
    },
    {
      "cell_type": "code",
      "metadata": {
        "colab": {
          "base_uri": "https://localhost:8080/"
        },
        "id": "tKis9FaKxi2q",
        "outputId": "f199ca05-f1ac-4c89-aa5a-e2afd9a0d333"
      },
      "source": [
        "sess = gpt2.start_tf_sess()\n",
        "gpt2.copy_checkpoint_from_gdrive(run_name='echidna')\n",
        "gpt2.load_gpt2(sess, run_name='echidna')"
      ],
      "execution_count": null,
      "outputs": [
        {
          "output_type": "stream",
          "text": [
            "WARNING:tensorflow:From /content/gpt_2_simple/gpt_2.py:92: The name tf.ConfigProto is deprecated. Please use tf.compat.v1.ConfigProto instead.\n",
            "\n",
            "WARNING:tensorflow:From /content/gpt_2_simple/gpt_2.py:102: The name tf.Session is deprecated. Please use tf.compat.v1.Session instead.\n",
            "\n",
            "WARNING:tensorflow:From /content/gpt_2_simple/gpt_2.py:347: The name tf.placeholder is deprecated. Please use tf.compat.v1.placeholder instead.\n",
            "\n",
            "WARNING:tensorflow:From /content/gpt_2_simple/gpt_2.py:351: The name tf.train.Saver is deprecated. Please use tf.compat.v1.train.Saver instead.\n",
            "\n",
            "WARNING:tensorflow:From /content/gpt_2_simple/gpt_2.py:352: The name tf.global_variables_initializer is deprecated. Please use tf.compat.v1.global_variables_initializer instead.\n",
            "\n",
            "Loading checkpoint checkpoint/echidna/model-4000\n",
            "INFO:tensorflow:Restoring parameters from checkpoint/echidna/model-4000\n"
          ],
          "name": "stdout"
        }
      ]
    },
    {
      "cell_type": "code",
      "metadata": {
        "colab": {
          "base_uri": "https://localhost:8080/"
        },
        "id": "ZmlH5kmSxpHz",
        "outputId": "50d9b5cd-691d-4141-9111-dc915950dad9"
      },
      "source": [
        "import datetime\n",
        "gen_file = 'gpt2_gentext_{:%Y%m%d_%H%M%S}.txt'.format(datetime.datetime.utcnow())\n",
        "name = \"Echidna\"\n",
        "brace = '{'\n",
        "nl = '\\n'\n",
        "gpt2.generate_to_file(sess, destination_path=gen_file, run_name=\"echidna\", prefix=f'<-|start|->{nl}{brace}{nl}    \"monster_name\": \"{name}\",{nl}', truncate=\"<-|end|->\", length=10240, temperature=0.9, split_context=0.65)"
      ],
      "execution_count": null,
      "outputs": [
        {
          "output_type": "stream",
          "text": [
            "WARNING:tensorflow:From /content/gpt_2_simple/gpt_2.py:423: The name tf.set_random_seed is deprecated. Please use tf.compat.v1.set_random_seed instead.\n",
            "\n"
          ],
          "name": "stdout"
        }
      ]
    },
    {
      "cell_type": "code",
      "metadata": {
        "id": "-yUIm1Es34_k"
      },
      "source": [
        ""
      ],
      "execution_count": null,
      "outputs": []
    },
    {
      "cell_type": "code",
      "metadata": {
        "id": "q4JrhT0f37OD",
        "colab": {
          "base_uri": "https://localhost:8080/",
          "height": 17
        },
        "outputId": "03928ec7-1eec-4cdb-fc9c-70b795c26cd7"
      },
      "source": [
        "from google.colab import files\n",
        "# may have to run twice to get file to download\n",
        "files.download(gen_file)"
      ],
      "execution_count": null,
      "outputs": [
        {
          "output_type": "display_data",
          "data": {
            "application/javascript": [
              "\n",
              "    async function download(id, filename, size) {\n",
              "      if (!google.colab.kernel.accessAllowed) {\n",
              "        return;\n",
              "      }\n",
              "      const div = document.createElement('div');\n",
              "      const label = document.createElement('label');\n",
              "      label.textContent = `Downloading \"${filename}\": `;\n",
              "      div.appendChild(label);\n",
              "      const progress = document.createElement('progress');\n",
              "      progress.max = size;\n",
              "      div.appendChild(progress);\n",
              "      document.body.appendChild(div);\n",
              "\n",
              "      const buffers = [];\n",
              "      let downloaded = 0;\n",
              "\n",
              "      const channel = await google.colab.kernel.comms.open(id);\n",
              "      // Send a message to notify the kernel that we're ready.\n",
              "      channel.send({})\n",
              "\n",
              "      for await (const message of channel.messages) {\n",
              "        // Send a message to notify the kernel that we're ready.\n",
              "        channel.send({})\n",
              "        if (message.buffers) {\n",
              "          for (const buffer of message.buffers) {\n",
              "            buffers.push(buffer);\n",
              "            downloaded += buffer.byteLength;\n",
              "            progress.value = downloaded;\n",
              "          }\n",
              "        }\n",
              "      }\n",
              "      const blob = new Blob(buffers, {type: 'application/binary'});\n",
              "      const a = document.createElement('a');\n",
              "      a.href = window.URL.createObjectURL(blob);\n",
              "      a.download = filename;\n",
              "      div.appendChild(a);\n",
              "      a.click();\n",
              "      div.remove();\n",
              "    }\n",
              "  "
            ],
            "text/plain": [
              "<IPython.core.display.Javascript object>"
            ]
          },
          "metadata": {
            "tags": []
          }
        },
        {
          "output_type": "display_data",
          "data": {
            "application/javascript": [
              "download(\"download_71833b15-4b3a-48e8-a265-f2414ac25cdc\", \"gpt2_gentext_20210328_025430.txt\", 4576)"
            ],
            "text/plain": [
              "<IPython.core.display.Javascript object>"
            ]
          },
          "metadata": {
            "tags": []
          }
        }
      ]
    }
  ]
}